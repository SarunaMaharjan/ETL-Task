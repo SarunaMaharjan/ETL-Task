{
 "cells": [
  {
   "cell_type": "code",
   "execution_count": 2,
   "metadata": {},
   "outputs": [],
   "source": [
    "import pandas as pd"
   ]
  },
  {
   "cell_type": "code",
   "execution_count": 3,
   "metadata": {},
   "outputs": [],
   "source": [
    "clients_df = pd.read_json('./Files/clients.json')\n",
    "suppliers_df = pd.read_json('./Files/suppliers.json')\n",
    "sonar_runs_df = pd.read_json('./Files/sonar_runs.json')\n",
    "sonar_results_df = pd.read_json('./Files/sonar_results.json')\n"
   ]
  },
  {
   "cell_type": "code",
   "execution_count": 4,
   "metadata": {},
   "outputs": [
    {
     "data": {
      "text/html": [
       "<div>\n",
       "<style scoped>\n",
       "    .dataframe tbody tr th:only-of-type {\n",
       "        vertical-align: middle;\n",
       "    }\n",
       "\n",
       "    .dataframe tbody tr th {\n",
       "        vertical-align: top;\n",
       "    }\n",
       "\n",
       "    .dataframe thead th {\n",
       "        text-align: right;\n",
       "    }\n",
       "</style>\n",
       "<table border=\"1\" class=\"dataframe\">\n",
       "  <thead>\n",
       "    <tr style=\"text-align: right;\">\n",
       "      <th></th>\n",
       "      <th>_id</th>\n",
       "      <th>name</th>\n",
       "      <th>contract_start</th>\n",
       "    </tr>\n",
       "  </thead>\n",
       "  <tbody>\n",
       "    <tr>\n",
       "      <th>0</th>\n",
       "      <td>{'$oid': '60cde63c3a78c08496cc94fa'}</td>\n",
       "      <td>smiablsz</td>\n",
       "      <td>{'$date': '2021-06-01T00:00:00Z'}</td>\n",
       "    </tr>\n",
       "    <tr>\n",
       "      <th>1</th>\n",
       "      <td>{'$oid': '5f75dc8ca79f36898b4fae50'}</td>\n",
       "      <td>zqzvqcrx</td>\n",
       "      <td>{'$date': '2020-07-01T00:00:00Z'}</td>\n",
       "    </tr>\n",
       "    <tr>\n",
       "      <th>2</th>\n",
       "      <td>{'$oid': '6123c85ac2d7aa79245e4c62'}</td>\n",
       "      <td>lfgephqb</td>\n",
       "      <td>{'$date': '2021-08-01T00:00:00Z'}</td>\n",
       "    </tr>\n",
       "    <tr>\n",
       "      <th>3</th>\n",
       "      <td>{'$oid': '610967c5b4e576569627b60b'}</td>\n",
       "      <td>okkpmsit</td>\n",
       "      <td>{'$date': '2021-08-01T00:00:00Z'}</td>\n",
       "    </tr>\n",
       "    <tr>\n",
       "      <th>4</th>\n",
       "      <td>{'$oid': '61603177a5156d40200ad74b'}</td>\n",
       "      <td>ayndkulu</td>\n",
       "      <td>{'$date': '2021-09-01T00:00:00Z'}</td>\n",
       "    </tr>\n",
       "  </tbody>\n",
       "</table>\n",
       "</div>"
      ],
      "text/plain": [
       "                                    _id      name  \\\n",
       "0  {'$oid': '60cde63c3a78c08496cc94fa'}  smiablsz   \n",
       "1  {'$oid': '5f75dc8ca79f36898b4fae50'}  zqzvqcrx   \n",
       "2  {'$oid': '6123c85ac2d7aa79245e4c62'}  lfgephqb   \n",
       "3  {'$oid': '610967c5b4e576569627b60b'}  okkpmsit   \n",
       "4  {'$oid': '61603177a5156d40200ad74b'}  ayndkulu   \n",
       "\n",
       "                      contract_start  \n",
       "0  {'$date': '2021-06-01T00:00:00Z'}  \n",
       "1  {'$date': '2020-07-01T00:00:00Z'}  \n",
       "2  {'$date': '2021-08-01T00:00:00Z'}  \n",
       "3  {'$date': '2021-08-01T00:00:00Z'}  \n",
       "4  {'$date': '2021-09-01T00:00:00Z'}  "
      ]
     },
     "execution_count": 4,
     "metadata": {},
     "output_type": "execute_result"
    }
   ],
   "source": [
    "clients_df.head(5)"
   ]
  },
  {
   "cell_type": "code",
   "execution_count": 5,
   "metadata": {},
   "outputs": [
    {
     "data": {
      "text/html": [
       "<div>\n",
       "<style scoped>\n",
       "    .dataframe tbody tr th:only-of-type {\n",
       "        vertical-align: middle;\n",
       "    }\n",
       "\n",
       "    .dataframe tbody tr th {\n",
       "        vertical-align: top;\n",
       "    }\n",
       "\n",
       "    .dataframe thead th {\n",
       "        text-align: right;\n",
       "    }\n",
       "</style>\n",
       "<table border=\"1\" class=\"dataframe\">\n",
       "  <thead>\n",
       "    <tr style=\"text-align: right;\">\n",
       "      <th></th>\n",
       "      <th>name</th>\n",
       "      <th>country</th>\n",
       "      <th>_id</th>\n",
       "    </tr>\n",
       "  </thead>\n",
       "  <tbody>\n",
       "    <tr>\n",
       "      <th>0</th>\n",
       "      <td>Halstrup-Walcher DeepDive</td>\n",
       "      <td>DEU</td>\n",
       "      <td>{'$oid': '6086c347701bfd9e246ae133'}</td>\n",
       "    </tr>\n",
       "    <tr>\n",
       "      <th>1</th>\n",
       "      <td>Meissner DeepDive</td>\n",
       "      <td>DEU</td>\n",
       "      <td>{'$oid': '6086c321701bfd9e246adf39'}</td>\n",
       "    </tr>\n",
       "    <tr>\n",
       "      <th>2</th>\n",
       "      <td>Ventile24</td>\n",
       "      <td>DEU</td>\n",
       "      <td>{'$oid': '5f65f34555b0e75f4f6d925c'}</td>\n",
       "    </tr>\n",
       "    <tr>\n",
       "      <th>3</th>\n",
       "      <td>Mouser Europe</td>\n",
       "      <td>DEU</td>\n",
       "      <td>{'$oid': '609a2f0a0663787efac09b9a'}</td>\n",
       "    </tr>\n",
       "    <tr>\n",
       "      <th>4</th>\n",
       "      <td>Könitzer DeepDive</td>\n",
       "      <td>DEU</td>\n",
       "      <td>{'$oid': '6086c31e701bfd9e246adf09'}</td>\n",
       "    </tr>\n",
       "  </tbody>\n",
       "</table>\n",
       "</div>"
      ],
      "text/plain": [
       "                        name country                                   _id\n",
       "0  Halstrup-Walcher DeepDive     DEU  {'$oid': '6086c347701bfd9e246ae133'}\n",
       "1          Meissner DeepDive     DEU  {'$oid': '6086c321701bfd9e246adf39'}\n",
       "2                  Ventile24     DEU  {'$oid': '5f65f34555b0e75f4f6d925c'}\n",
       "3              Mouser Europe     DEU  {'$oid': '609a2f0a0663787efac09b9a'}\n",
       "4          Könitzer DeepDive     DEU  {'$oid': '6086c31e701bfd9e246adf09'}"
      ]
     },
     "execution_count": 5,
     "metadata": {},
     "output_type": "execute_result"
    }
   ],
   "source": [
    "suppliers_df.head(5)\n",
    "\n"
   ]
  },
  {
   "cell_type": "code",
   "execution_count": 6,
   "metadata": {},
   "outputs": [
    {
     "data": {
      "text/html": [
       "<div>\n",
       "<style scoped>\n",
       "    .dataframe tbody tr th:only-of-type {\n",
       "        vertical-align: middle;\n",
       "    }\n",
       "\n",
       "    .dataframe tbody tr th {\n",
       "        vertical-align: top;\n",
       "    }\n",
       "\n",
       "    .dataframe thead th {\n",
       "        text-align: right;\n",
       "    }\n",
       "</style>\n",
       "<table border=\"1\" class=\"dataframe\">\n",
       "  <thead>\n",
       "    <tr style=\"text-align: right;\">\n",
       "      <th></th>\n",
       "      <th>_id</th>\n",
       "      <th>date</th>\n",
       "      <th>status</th>\n",
       "      <th>client_id</th>\n",
       "      <th>supplier_ids</th>\n",
       "    </tr>\n",
       "  </thead>\n",
       "  <tbody>\n",
       "    <tr>\n",
       "      <th>0</th>\n",
       "      <td>{'$oid': '6464bb1203b0ba705c3e2b33'}</td>\n",
       "      <td>{'$date': '2023-05-01T00:00:00Z'}</td>\n",
       "      <td>complete</td>\n",
       "      <td>{'$oid': '62d7f57ef857ce646635a487'}</td>\n",
       "      <td>[{'$oid': '609a2dd9e31b2f611bc09b88'}, {'$oid'...</td>\n",
       "    </tr>\n",
       "    <tr>\n",
       "      <th>1</th>\n",
       "      <td>{'$oid': '63495ebc4471dd08f04f5eb0'}</td>\n",
       "      <td>{'$date': '2022-10-01T00:00:00Z'}</td>\n",
       "      <td>complete</td>\n",
       "      <td>{'$oid': '624c12121a3a95bca67b6c7e'}</td>\n",
       "      <td>[{'$oid': '609a2dd9e31b2f611bc09b88'}, {'$oid'...</td>\n",
       "    </tr>\n",
       "    <tr>\n",
       "      <th>2</th>\n",
       "      <td>{'$oid': '61bc1f176e3ce64a1053134d'}</td>\n",
       "      <td>{'$date': '2021-12-01T00:00:00Z'}</td>\n",
       "      <td>complete</td>\n",
       "      <td>{'$oid': '61b9b70ddee5cd96652a2806'}</td>\n",
       "      <td>[{'$oid': '612f9c3b5244bfd8389c840b'}, {'$oid'...</td>\n",
       "    </tr>\n",
       "    <tr>\n",
       "      <th>3</th>\n",
       "      <td>{'$oid': '6461f45ff8d3badcf0812e33'}</td>\n",
       "      <td>{'$date': '2023-05-01T00:00:00Z'}</td>\n",
       "      <td>complete</td>\n",
       "      <td>{'$oid': '63983c05a371c395a226d706'}</td>\n",
       "      <td>[{'$oid': '60b1dcfb2313fbb5b0b02ace'}, {'$oid'...</td>\n",
       "    </tr>\n",
       "    <tr>\n",
       "      <th>4</th>\n",
       "      <td>{'$oid': '63a31bebf35a544546e0f129'}</td>\n",
       "      <td>{'$date': '2022-12-01T00:00:00Z'}</td>\n",
       "      <td>complete</td>\n",
       "      <td>{'$oid': '63652f093639a13d2040c4a5'}</td>\n",
       "      <td>[{'$oid': '609a2dd9e31b2f611bc09b88'}, {'$oid'...</td>\n",
       "    </tr>\n",
       "  </tbody>\n",
       "</table>\n",
       "</div>"
      ],
      "text/plain": [
       "                                    _id                               date  \\\n",
       "0  {'$oid': '6464bb1203b0ba705c3e2b33'}  {'$date': '2023-05-01T00:00:00Z'}   \n",
       "1  {'$oid': '63495ebc4471dd08f04f5eb0'}  {'$date': '2022-10-01T00:00:00Z'}   \n",
       "2  {'$oid': '61bc1f176e3ce64a1053134d'}  {'$date': '2021-12-01T00:00:00Z'}   \n",
       "3  {'$oid': '6461f45ff8d3badcf0812e33'}  {'$date': '2023-05-01T00:00:00Z'}   \n",
       "4  {'$oid': '63a31bebf35a544546e0f129'}  {'$date': '2022-12-01T00:00:00Z'}   \n",
       "\n",
       "     status                             client_id  \\\n",
       "0  complete  {'$oid': '62d7f57ef857ce646635a487'}   \n",
       "1  complete  {'$oid': '624c12121a3a95bca67b6c7e'}   \n",
       "2  complete  {'$oid': '61b9b70ddee5cd96652a2806'}   \n",
       "3  complete  {'$oid': '63983c05a371c395a226d706'}   \n",
       "4  complete  {'$oid': '63652f093639a13d2040c4a5'}   \n",
       "\n",
       "                                        supplier_ids  \n",
       "0  [{'$oid': '609a2dd9e31b2f611bc09b88'}, {'$oid'...  \n",
       "1  [{'$oid': '609a2dd9e31b2f611bc09b88'}, {'$oid'...  \n",
       "2  [{'$oid': '612f9c3b5244bfd8389c840b'}, {'$oid'...  \n",
       "3  [{'$oid': '60b1dcfb2313fbb5b0b02ace'}, {'$oid'...  \n",
       "4  [{'$oid': '609a2dd9e31b2f611bc09b88'}, {'$oid'...  "
      ]
     },
     "execution_count": 6,
     "metadata": {},
     "output_type": "execute_result"
    }
   ],
   "source": [
    "sonar_runs_df.head(5)\n"
   ]
  },
  {
   "cell_type": "code",
   "execution_count": 7,
   "metadata": {},
   "outputs": [
    {
     "data": {
      "text/html": [
       "<div>\n",
       "<style scoped>\n",
       "    .dataframe tbody tr th:only-of-type {\n",
       "        vertical-align: middle;\n",
       "    }\n",
       "\n",
       "    .dataframe tbody tr th {\n",
       "        vertical-align: top;\n",
       "    }\n",
       "\n",
       "    .dataframe thead th {\n",
       "        text-align: right;\n",
       "    }\n",
       "</style>\n",
       "<table border=\"1\" class=\"dataframe\">\n",
       "  <thead>\n",
       "    <tr style=\"text-align: right;\">\n",
       "      <th></th>\n",
       "      <th>_id</th>\n",
       "      <th>price_norm</th>\n",
       "      <th>part_id</th>\n",
       "      <th>supplier_id</th>\n",
       "      <th>sonar_run_id</th>\n",
       "    </tr>\n",
       "  </thead>\n",
       "  <tbody>\n",
       "    <tr>\n",
       "      <th>0</th>\n",
       "      <td>{'$oid': '61669608cd5d4d202bd6456a'}</td>\n",
       "      <td>1769.50</td>\n",
       "      <td>{'$oid': '61666b611f5ebf437458bc52'}</td>\n",
       "      <td>{'$oid': '5f65f34455b0e75f4f6d9241'}</td>\n",
       "      <td>{'$oid': '6166875ff21316461be8a07d'}</td>\n",
       "    </tr>\n",
       "    <tr>\n",
       "      <th>1</th>\n",
       "      <td>{'$oid': '61669610cd5d4d202bd64583'}</td>\n",
       "      <td>780.56</td>\n",
       "      <td>{'$oid': '61666b611f5ebf437458bc66'}</td>\n",
       "      <td>{'$oid': '5f65f34455b0e75f4f6d9241'}</td>\n",
       "      <td>{'$oid': '6166875ff21316461be8a07d'}</td>\n",
       "    </tr>\n",
       "    <tr>\n",
       "      <th>2</th>\n",
       "      <td>{'$oid': '61669613cd5d4d202bd64589'}</td>\n",
       "      <td>273.14</td>\n",
       "      <td>{'$oid': '61666b611f5ebf437458bc2e'}</td>\n",
       "      <td>{'$oid': '609bb1d2d8ef62bf74cf2f51'}</td>\n",
       "      <td>{'$oid': '6166875ff21316461be8a07d'}</td>\n",
       "    </tr>\n",
       "    <tr>\n",
       "      <th>3</th>\n",
       "      <td>{'$oid': '61669630cd5d4d202bd645cd'}</td>\n",
       "      <td>273.45</td>\n",
       "      <td>{'$oid': '61666b611f5ebf437458bc2e'}</td>\n",
       "      <td>{'$oid': '5f65f34455b0e75f4f6d9241'}</td>\n",
       "      <td>{'$oid': '6166875ff21316461be8a07d'}</td>\n",
       "    </tr>\n",
       "    <tr>\n",
       "      <th>4</th>\n",
       "      <td>{'$oid': '61669683cd5d4d202bd646a3'}</td>\n",
       "      <td>1596.63</td>\n",
       "      <td>{'$oid': '61666b611f5ebf437458bc10'}</td>\n",
       "      <td>{'$oid': '5f65f34455b0e75f4f6d9241'}</td>\n",
       "      <td>{'$oid': '6166875ff21316461be8a07d'}</td>\n",
       "    </tr>\n",
       "  </tbody>\n",
       "</table>\n",
       "</div>"
      ],
      "text/plain": [
       "                                    _id  price_norm  \\\n",
       "0  {'$oid': '61669608cd5d4d202bd6456a'}     1769.50   \n",
       "1  {'$oid': '61669610cd5d4d202bd64583'}      780.56   \n",
       "2  {'$oid': '61669613cd5d4d202bd64589'}      273.14   \n",
       "3  {'$oid': '61669630cd5d4d202bd645cd'}      273.45   \n",
       "4  {'$oid': '61669683cd5d4d202bd646a3'}     1596.63   \n",
       "\n",
       "                                part_id                           supplier_id  \\\n",
       "0  {'$oid': '61666b611f5ebf437458bc52'}  {'$oid': '5f65f34455b0e75f4f6d9241'}   \n",
       "1  {'$oid': '61666b611f5ebf437458bc66'}  {'$oid': '5f65f34455b0e75f4f6d9241'}   \n",
       "2  {'$oid': '61666b611f5ebf437458bc2e'}  {'$oid': '609bb1d2d8ef62bf74cf2f51'}   \n",
       "3  {'$oid': '61666b611f5ebf437458bc2e'}  {'$oid': '5f65f34455b0e75f4f6d9241'}   \n",
       "4  {'$oid': '61666b611f5ebf437458bc10'}  {'$oid': '5f65f34455b0e75f4f6d9241'}   \n",
       "\n",
       "                           sonar_run_id  \n",
       "0  {'$oid': '6166875ff21316461be8a07d'}  \n",
       "1  {'$oid': '6166875ff21316461be8a07d'}  \n",
       "2  {'$oid': '6166875ff21316461be8a07d'}  \n",
       "3  {'$oid': '6166875ff21316461be8a07d'}  \n",
       "4  {'$oid': '6166875ff21316461be8a07d'}  "
      ]
     },
     "execution_count": 7,
     "metadata": {},
     "output_type": "execute_result"
    }
   ],
   "source": [
    "sonar_results_df.head(5)"
   ]
  },
  {
   "cell_type": "code",
   "execution_count": 8,
   "metadata": {},
   "outputs": [
    {
     "name": "stdout",
     "output_type": "stream",
     "text": [
      "_id               0\n",
      "name              0\n",
      "contract_start    0\n",
      "dtype: int64\n",
      "name       0\n",
      "country    0\n",
      "_id        0\n",
      "dtype: int64\n",
      "_id             0\n",
      "date            0\n",
      "status          0\n",
      "client_id       0\n",
      "supplier_ids    0\n",
      "dtype: int64\n",
      "_id             0\n",
      "price_norm      0\n",
      "part_id         0\n",
      "supplier_id     0\n",
      "sonar_run_id    0\n",
      "dtype: int64\n"
     ]
    }
   ],
   "source": [
    "#Data Cleaning\n",
    "\n",
    "#checking for all the null values\n",
    "print(clients_df.isnull().sum())\n",
    "print(suppliers_df.isnull().sum())\n",
    "print(sonar_runs_df.isnull().sum())\n",
    "print(sonar_results_df.isnull().sum())"
   ]
  },
  {
   "cell_type": "markdown",
   "metadata": {},
   "source": [
    "Visualizing relation between collections"
   ]
  },
  {
   "cell_type": "code",
   "execution_count": 9,
   "metadata": {},
   "outputs": [],
   "source": [
    "#pip install networkx"
   ]
  },
  {
   "cell_type": "code",
   "execution_count": 10,
   "metadata": {},
   "outputs": [],
   "source": [
    "import networkx as nx\n",
    "import matplotlib.pyplot as plt"
   ]
  },
  {
   "cell_type": "code",
   "execution_count": 11,
   "metadata": {},
   "outputs": [
    {
     "data": {
      "image/png": "[encoded data removed]",
      "text/plain": [
       "<Figure size 640x480 with 1 Axes>"
      ]
     },
     "metadata": {},
     "output_type": "display_data"
    }
   ],
   "source": [
    "# Create a directed graph\n",
    "G = nx.DiGraph()\n",
    "\n",
    "# Add nodes (collections)\n",
    "G.add_node('Clients')\n",
    "G.add_node('Suppliers')\n",
    "G.add_node('Sonar Runs')\n",
    "G.add_node('Sonar Results')\n",
    "\n",
    "# Add edges (relationships between collections)\n",
    "G.add_edge('Clients', 'Sonar Runs', label='client_id')\n",
    "G.add_edge('Sonar Runs', 'Sonar Results', label='sonar_run_id')\n",
    "G.add_edge('Suppliers', 'Sonar Results', label='supplier_id')\n",
    "\n",
    "# Draw the graph\n",
    "pos = nx.spring_layout(G)\n",
    "nx.draw(G, pos, with_labels=True, node_size=3000, node_color=\"lightblue\", font_size=10)\n",
    "nx.draw_networkx_edge_labels(G, pos, edge_labels={('Clients', 'Sonar Runs'): 'client_id', \n",
    "                                                  ('Sonar Runs', 'Sonar Results'): 'sonar_run_id',\n",
    "                                                  ('Suppliers', 'Sonar Results'): 'supplier_id'})\n",
    "plt.show()\n"
   ]
  },
  {
   "cell_type": "markdown",
   "metadata": {},
   "source": [
    "So from the above result we can see that there is no direct relationship between **clients** and **suppliers** instead they are only connected indirectly through **sonar runs** and **sonar results**."
   ]
  },
  {
   "cell_type": "markdown",
   "metadata": {},
   "source": [
    "Data Transformation"
   ]
  }
 ],
 "metadata": {
  "kernelspec": {
   "display_name": "myenv",
   "language": "python",
   "name": "python3"
  },
  "language_info": {
   "codemirror_mode": {
    "name": "ipython",
    "version": 3
   },
   "file_extension": ".py",
   "mimetype": "text/x-python",
   "name": "python",
   "nbconvert_exporter": "python",
   "pygments_lexer": "ipython3",
   "version": "3.11.3"
  }
 },
 "nbformat": 4,
 "nbformat_minor": 2
}
